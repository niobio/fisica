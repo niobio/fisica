{
 "cells": [
  {
   "cell_type": "markdown",
   "metadata": {
    "slideshow": {
     "slide_type": "slide"
    }
   },
   "source": [
    "# Física de partícules"
   ]
  },
  {
   "cell_type": "markdown",
   "metadata": {
    "slideshow": {
     "slide_type": "slide"
    }
   },
   "source": [
    "## Model Estàndar\n",
    "\n",
    "* Model que descriu les propietat i interaccions de les parícule elementals.\n",
    "* Desenvolupat en la dècada del 60 i 70.\n",
    "* Explica fets experimentals amb molta precisió.\n",
    "* No explica la natura de manera completa:\n",
    "    * No inclou la gravitació.\n",
    "    * No pot explicar el moviment, mida, forma i distribució de les galàxies (materia fosca).\n",
    "    * No pot explicar l'acceleració en l'expansió de l'univers (energia fosca).\n",
    "    * No és capaç d'explicar l'origen de totes les partícules al començament del temps."
   ]
  }
 ],
 "metadata": {
  "celltoolbar": "Slideshow",
  "kernelspec": {
   "display_name": "Python 3",
   "language": "python",
   "name": "python3"
  },
  "language_info": {
   "codemirror_mode": {
    "name": "ipython",
    "version": 3
   },
   "file_extension": ".py",
   "mimetype": "text/x-python",
   "name": "python",
   "nbconvert_exporter": "python",
   "pygments_lexer": "ipython3",
   "version": "3.5.2"
  }
 },
 "nbformat": 4,
 "nbformat_minor": 2
}
