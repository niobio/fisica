{
 "cells": [
  {
   "cell_type": "markdown",
   "metadata": {},
   "source": [
    "# Problemes Unitat 0: Introducció a la Física\n",
    "\n",
    "<style type=\"text/css\">\n",
    "    ol ol { list-style-type: lower-alpha; }\n",
    "</style>"
   ]
  },
  {
   "cell_type": "markdown",
   "metadata": {},
   "source": [
    "## Errors i mesura\n",
    "\n",
    "1. La Maria mesura la longitud del seu llibre i obté una mesura de 25 cm amb un error absolut de 20 mm. En Bruno mesura la quantitat d'aigua que hi ha en una proveta i obté una mesura de $30\\,\\mathrm{cm^{3}}$ amb un error absolut de 4 ml. Quina mesura és més precisa, la de la Maria o la de Bruno? \n",
    "\n",
    "2. En la mesura d’1,5 m s’ha comès un error de 10 mm i en la mesura de 400 km s’ha comès un error de 400 m. Quina de les dues mesures és més precisa? Justifica la resposta. \n",
    "\n",
    "3. Unes alumnes han mesurat l'interval de temps t que tarda una bola en recórrer un pla inclinat i han utilitzat un cronòmetre que té un error instrumental de 0,01 s, i han efectuat 10 mesures, tot obtenint els següents valors en segons: 3,43; 3,51; 3,45; 3,47; 3,44; 3,43; 3,42; 3,44; 3,46; 3,47. \n",
    "\n",
    "    1. Quin és el resultat de la mesura? \n",
    "    2. Quin és l'error absolut i l'error relatiu? \n",
    "\n",
    "4. La Terra és a 150 000 000 km del Sol i l'estrella més propera és a una distància 250 000 vegades la distància Terra-Sol. \n",
    "    1. Escriviu aquestes quantitats en notació científica. \n",
    "    2. Determineu la distància en km de la Terra a l'estrella més propera. \n",
    "\n",
    "5. La Neus mesura la longitud d'una corda i obté una mesura de 45 cm amb un error absolut de 2 mm, l'Horaci mesura la quantitat d'aigua que hi ha en una proveta i obté una mesura de $45\\,\\mathrm{cm^{3}}$ amb un error absolut de $10\\,\\mathrm{m^{3}}$ i la Mercè mesura el pes d'un tros de fusta i obté una mesura de 4,5 kg amb un error absolut de 200 g. Si ordenéssim les mesures de menor a major precisió, el resultat seria: \n",
    "    1. La Neus, l'Horaci i la Mercè \n",
    "    2. L'Horaci, la Neus i la Mercè \n",
    "    3. La Mercè, la Neus i l'Horaci \n",
    "    4. L'Horaci, la Mercè i la Neus \n",
    "    5. La Neus, la Mercè i l'Horaci \n",
    "\n",
    "6. Digues quantes xifres significatives tenen les següents magnituds: \n",
    "    1. $1,230\\times10^{-12}\\,\\mathrm{kg}$\n",
    "    2. $0,0000230\\,\\mathrm{mm}$\n",
    "    3. $1,0234\\,\\mathrm{nm}$\n",
    "    4. $3,2\\times10^{12}\\,\\mathrm{cm^{3}}$\n",
    "    5. $0,0123\\,\\mathrm{ml}$\n",
    "\n",
    "7. S'ha mesurat el període d'un pèndol cinc vegades i s'han obtingut , en segons, els següents resultats: 2,1 – 2,0 – 1,9 – 2,1 – 2,2 \n",
    "    1. Digueu quin és el resultat del mesurament. \n",
    "    2. Determineu la cota de l'error absolut. \n",
    "    3. Determineu la cota de l'error relatiu. \n",
    "\n",
    "8. Amb quantes xifres significatives s'ha expressat cada una de les quantitats següents? 26380,0 m; 0,008502 g; 30870 km; 300000 kg i 100,74 s.Escriu-les en notació científica amb tres xifres significatives.\n",
    "\n",
    "9. Fem mesures de massa i volum de cinc mostres de coure i trobem els resultats que apareixen en la taula de sota. \n",
    "    1. Representeu gràficament els volums en abscises i les masses en ordenades. Què se n'obtè?\n",
    "    2. Calculeu el valor de la densitat del coure amb el seu error. Quantes xifres significatives té el resultat?\n",
    "    3. Quina és la cota d'error relatiu?\n",
    "\n",
    "|Mostra|Volum ($\\mathrm{cm^3}$)|Massa (g)|\n",
    "|--------|--|--|\n",
    "|mostra 1|10|86|\n",
    "|mostra 2|15|126|\n",
    "|mostra 3|20|171|\n",
    "|mostra 4|25|217|\n",
    "|mostra 5|30|258|\n",
    "    \n",
    "<ol start=\"10\">\n",
    "<li>Volem mesurar $180\\,\\mathrm{cm^{3}}$ d'aigua amb una proveta. Si l'error relatiu ha de ser inferior al 3%, n'hi ha prou amb una proveta graduada de $5\\,\\mathrm{cm^{3}}$ en $5\\,\\mathrm{cm^{3}}$, o cal una proveta graduada de $2\\,\\mathrm{cm^{3}}$ en $2\\,\\mathrm{cm^{3}}$? Justifica la teva resposta.</li>\n",
    "\n",
    "<li>Hem mesurat l'alçada d'una persona i l'error absolut ha estat inferior a 1 cm; també hem mesurat el diàmetre d'una moneda d'un euro i l'error ha estat inferior a 1 mm. Quin dels dos mesuraments és més precís? Per què?</li>\n",
    "</ol>"
   ]
  },
  {
   "cell_type": "markdown",
   "metadata": {},
   "source": [
    "## Mètode científic\n",
    "\n",
    "1. Quina era la visió aristotèlica del món?\n",
    "\n",
    "2. Explica breument en què consisteix el mètode científic. \n",
    "\n",
    "3. Què vol dir que una teoria sigui falsable?"
   ]
  }
 ],
 "metadata": {
  "kernelspec": {
   "display_name": "Python 3",
   "language": "python",
   "name": "python3"
  },
  "language_info": {
   "codemirror_mode": {
    "name": "ipython",
    "version": 3
   },
   "file_extension": ".py",
   "mimetype": "text/x-python",
   "name": "python",
   "nbconvert_exporter": "python",
   "pygments_lexer": "ipython3",
   "version": "3.6.6"
  }
 },
 "nbformat": 4,
 "nbformat_minor": 2
}
