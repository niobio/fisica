{
 "cells": [
  {
   "cell_type": "markdown",
   "metadata": {},
   "source": [
    "# Anàlisi del moviment parabòlic\n",
    "\n",
    "En aquesta pràctica farem l'anàlisi d'un moviment parabòlic i determinarem el valor dels paràmetres que definen el moviment. \n",
    "\n",
    "## Tutorial sobre l'ús del programa Tracker\n",
    "\n",
    "Mireu aquest vídeo per veure com fer servir el programa Tracker per l'anàlisi de moviments. Segons el nostre model de la realitat, en un llançament oblic l'altura segueix una funció de segon grau del temps (paràbola) i la posició horitzontal una funció lineal del temps. Podem determinar els paràmetres que prenen part d'aquestes funcions si trobem els valors que millor ajusten els valors experimentals. Això és el que fa el mètode de mínims quadrats: trobem els paràmetres que millor descriuen el comportament experimental, es a dir, la corba trobada és la que passa més a prop de tots els punts.\n",
    "\n",
    "El tutorial del vídeo de sota explica com aplicar el mètode utilitzant el programa Tracker.\n",
    "\n",
    "<iframe width=\"560\" height=\"315\" src=\"https://www.youtube.com/embed/04_Sz43Et00\" frameborder=\"0\" allow=\"accelerometer; autoplay; encrypted-media; gyroscope; picture-in-picture\" allowfullscreen></iframe>\n",
    "\n",
    "## Realització del vídeo\n",
    "\n",
    "Per a la realització de la pràctica heu de fer un vídeo on es vegi la trajectòria d'una pilota fent un tir parabòlic. La millor manera de fer-ho sobre un fons uniforme i d'un color diferent al de la pilota per tal de poder fer un bon seguiment de la pilota en el vídeo. També tingueu en compte de que en el vídeo aparegui algun objecte per al qual heu mesurat la seva longitud. Això ens permetrà calibrar bé les distàncies en el vídeo.\n",
    "\n",
    "## Anàlisi del vídeo\n",
    "\n",
    "Feu l'anàlisi del vídeo seguint les pautes que estan proposades en el vídeo tutorial. Elaboreu un informe que contingui:\n",
    "\n",
    "1. Una captura de pantalla del Tracker on es vegi una imatge del vídeo amb la pilota. També heu d'incloure una imatge de les gràfiques posició-temps, tant pel eix horitzontal com vertical.\n",
    "\n",
    "2. Determineu els següents paràmetres a partir de l'anàlisi del vídeo i ajustar les dades pel mètode de mínims quadrats: acceleració de la gravetat, velocitat inicial a l'eix horitzontal y velocitat inicial a l'eix vertical.\n",
    "\n",
    "3. Contesteu les següents qüestions:\n",
    "\n",
    "    1. Quina és l'altura màxima que assoleix la pilota?\n",
    "    2. Quina és la velocitat en l'instant abans de tocar terra? Resulta simètric el moviment?\n",
    "    3. Podeu avaular quins són els factors que poden ser causes d'error en la determinació dels paràmetres anteriors? Expliqueu.\n",
    "    \n",
    "4. Quines conclusions podeu extreure de la pràctica?"
   ]
  }
 ],
 "metadata": {
  "kernelspec": {
   "display_name": "Python 3",
   "language": "python",
   "name": "python3"
  },
  "language_info": {
   "codemirror_mode": {
    "name": "ipython",
    "version": 3
   },
   "file_extension": ".py",
   "mimetype": "text/x-python",
   "name": "python",
   "nbconvert_exporter": "python",
   "pygments_lexer": "ipython3",
   "version": "3.6.9"
  }
 },
 "nbformat": 4,
 "nbformat_minor": 2
}
