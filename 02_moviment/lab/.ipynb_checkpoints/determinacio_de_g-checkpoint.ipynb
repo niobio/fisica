{
 "cells": [
  {
   "cell_type": "markdown",
   "metadata": {},
   "source": [
    "# Determinació de l'acceleració de la gravetat\n",
    "\n",
    "En aquesta pràctica de laboratori intentarem mesurar la acceleració de la gravetat a la Terra. Per fer-ho utilitzarem un cronòmetre de precisió, el dels nostres mòbils de la manera que s'explica al vídeo següent\n",
    "\n",
    "<iframe width=\"560\" height=\"315\" src=\"https://www.youtube.com/embed/zRGh9_a1J7s\" frameborder=\"0\" allow=\"accelerometer; autoplay; encrypted-media; gyroscope; picture-in-picture\" allowfullscreen></iframe>\n",
    "\n",
    "## Materials\n",
    "\n",
    "Necessitarem els següents materials:\n",
    "\n",
    "* Suport amb anella regulable.\n",
    "* Globus.\n",
    "* Telèfon mòbil amb l'app PhyPhox instal·lada.\n",
    "* cinta mètrica.\n",
    "* Agulla.\n",
    "* Objecte per deixar caure.\n",
    "\n",
    "## Realització\n",
    "\n",
    "L'experiment el farem deixant caure des de diferents altures conegudes (les mesurarem amb la cinta mètrica) un objecte. Cada cop mesurarem el temps de caiguda amb el cronòmetre acústic (Acoustic Stopwatch) de l'aplicació PhyPhox, tal com s'ensenya al vídeo. Apuntarem en una taula els valors mesurats de temps (en segons) i d'altura (en metres). Les dues magnituds mesurades estan relacionades a través de la relació següent:\n",
    "\n",
    "$$h = \\frac{1}{2}gt^2$$\n",
    "\n",
    "Per tant, els punts hauran de ser part de una paràbola com la següent:\n",
    "\n",
    "$$h = at^2+bt+c$$\n",
    "\n",
    "on els paràmetres haurien de prendre els valors $a=0,5g$, $b=0$ i $c=0$. Existeix un mètode anomenat **mètode de quadrats mínims** que ens permet trobar la paràbola que més a prop passa per tos els punts. D'aquesta manera obtindrem els valors dels paràmetres i el valor de l'acceleració de la gravetat el tindrem multiplicant $a$ per 2.\n",
    "\n",
    "## Exemple: trobem la gravetat a la Lluna\n",
    "\n",
    "Per il·lustrar el mètode farem un exemple amb el que trobarem l'acceleració de la gravetat a la Lluna a partir de les dades experiemntals que apareixen a la taula de sota.\n",
    "\n",
    "<table>\n",
    "<tr>\n",
    "<th>Distància (m)</th><td>0.00</td><td>0.10</td><td>0.20</td><td>0.30</td><td>0.40</td><td>0.50</td>\n",
    "</tr>\n",
    "<tr>\n",
    "<th>Temps (s)</th><td>0.00</td><td>0.35</td><td>0.50</td><td>0.59</td><td>0.71</td><td>0.78</td>\n",
    "</tr>\n",
    "</table>\n",
    "\n",
    "\n",
    "Per fer els càlculs utilitzarem **Jupyter Notebook** que ve amb el paquet informàtic **Anaconda** que heu de tenir instal·lat a l'ordinador.\n",
    "\n",
    "A continuació els càlculs:\n",
    "\n",
    "Primer hem d'importar totes les funcions que necessitarem i que venen en el mòdul `pylab` "
   ]
  },
  {
   "cell_type": "code",
   "execution_count": 2,
   "metadata": {},
   "outputs": [],
   "source": [
    "from pylab import *"
   ]
  },
  {
   "cell_type": "markdown",
   "metadata": {},
   "source": [
    "El següent és crear els `array`, amb els valor experimentals, un pel temps i l'altre per les altures."
   ]
  },
  {
   "cell_type": "code",
   "execution_count": 3,
   "metadata": {},
   "outputs": [
    {
     "data": {
      "text/plain": [
       "array([0.  , 0.35, 0.5 , 0.59, 0.71, 0.78])"
      ]
     },
     "execution_count": 3,
     "metadata": {},
     "output_type": "execute_result"
    }
   ],
   "source": [
    "t = array([0,0.35,0.50,0.59,0.71, 0.78])\n",
    "t"
   ]
  },
  {
   "cell_type": "code",
   "execution_count": 4,
   "metadata": {},
   "outputs": [
    {
     "data": {
      "text/plain": [
       "array([0. , 0.1, 0.2, 0.3, 0.4, 0.5])"
      ]
     },
     "execution_count": 4,
     "metadata": {},
     "output_type": "execute_result"
    }
   ],
   "source": [
    "x = array([0, 0.10, 0.20, 0.30, 0.40, 0.5])\n",
    "x"
   ]
  },
  {
   "cell_type": "markdown",
   "metadata": {},
   "source": [
    "A continuació utilitzarem la funció `polyfit` per obtenir els paràmetres a,b i c de la paràbola que millor ajusta les dades. La funció `polyfit` rep com arguments els arrays a ajustar i el 2 indica que volem ajustar a un polinomi de segon grau."
   ]
  },
  {
   "cell_type": "code",
   "execution_count": 5,
   "metadata": {},
   "outputs": [
    {
     "data": {
      "text/plain": [
       "(0.8007361692533395, 0.012003596902281543, -0.000500001796996848)"
      ]
     },
     "execution_count": 5,
     "metadata": {},
     "output_type": "execute_result"
    }
   ],
   "source": [
    "a,b,c = polyfit(t,x,2)\n",
    "a,b,c"
   ]
  },
  {
   "cell_type": "markdown",
   "metadata": {},
   "source": [
    "Amb el valor d'a podem obtenir el de l'acceleració de la gravetat a la Lluna:"
   ]
  },
  {
   "cell_type": "code",
   "execution_count": 6,
   "metadata": {},
   "outputs": [
    {
     "data": {
      "text/plain": [
       "1.601472338506679"
      ]
     },
     "execution_count": 6,
     "metadata": {},
     "output_type": "execute_result"
    }
   ],
   "source": [
    "g = 2 * a\n",
    "g"
   ]
  },
  {
   "cell_type": "markdown",
   "metadata": {},
   "source": [
    "Que ens dona un valor d'$1,6 \\, \\mathrm{m/s^2}$ per aquesta acceleració.\n",
    "\n",
    "Podem fer la gràfica de la paràbola amb els paràmetres trobats. Per fer-ho primer crearem els valors per a després graficar-los. Pels valors de temps utilitzarem un conjunt més grans de valors de temps perquè la paràbola es vegi com una corba suau, i després calculem els valors de la paràbola utilitzant els paràmetres trobats."
   ]
  },
  {
   "cell_type": "code",
   "execution_count": 7,
   "metadata": {},
   "outputs": [],
   "source": [
    "t1 = arange(0,0.8,0.02)        # valors de temps des de 0 a 0.8 s amb un pas de 0.02 s\n",
    "x1 = a * t1**2 + b * t1 + c    # càlcul dels valors de posició pels valor de temps anteriors"
   ]
  },
  {
   "cell_type": "code",
   "execution_count": 43,
   "metadata": {},
   "outputs": [
    {
     "data": {
      "image/png": "[encoded data removed]",
      "text/plain": [
       "<Figure size 432x288 with 1 Axes>"
      ]
     },
     "metadata": {},
     "output_type": "display_data"
    }
   ],
   "source": [
    "# Gràfica de posició versus temps\n",
    "# Els valors experimentals estan indicats amb creus\n",
    "# La corba correspon a la paràbola obtinguda per quadrats mínims\n",
    "\n",
    "xlabel(\"temps (s)\")\n",
    "ylabel(\"posició (m)\")\n",
    "plot(t,x,color='blue', linestyle='none', marker='x')\n",
    "plot(t1,x1,color='red', linestyle='-')\n",
    "grid(True)\n",
    "\n",
    "# Si volem obtenir una gràfica en format png al nostre ordinador hem de descomenta la línia següent\n",
    "#savefig(\"regressio.png\", dpi=300)"
   ]
  },
  {
   "cell_type": "markdown",
   "metadata": {},
   "source": [
    "## Conclusió\n",
    "\n",
    "Hem obtingut, a partir de valors experimentals de posició i temps el valor de l'acceleració a la Lluna utilitzant el mètode de quadrats mínims. El valor obtingut és de \n",
    "\n",
    "$$g = 1,60 \\, \\mathrm{m/s^2}$$"
   ]
  }
 ],
 "metadata": {
  "kernelspec": {
   "display_name": "Python 3",
   "language": "python",
   "name": "python3"
  },
  "language_info": {
   "codemirror_mode": {
    "name": "ipython",
    "version": 3
   },
   "file_extension": ".py",
   "mimetype": "text/x-python",
   "name": "python",
   "nbconvert_exporter": "python",
   "pygments_lexer": "ipython3",
   "version": "3.6.8"
  }
 },
 "nbformat": 4,
 "nbformat_minor": 2
}
