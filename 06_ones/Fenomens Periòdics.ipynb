{
 "metadata": {
  "name": ""
 },
 "nbformat": 3,
 "nbformat_minor": 0,
 "worksheets": [
  {
   "cells": [
    {
     "cell_type": "heading",
     "level": 1,
     "metadata": {},
     "source": [
      "Les ones i el so"
     ]
    },
    {
     "cell_type": "heading",
     "level": 2,
     "metadata": {},
     "source": [
      "Moviments peri\u00f2dics"
     ]
    },
    {
     "cell_type": "heading",
     "level": 3,
     "metadata": {},
     "source": [
      "Magnituds caracter\u00edstiques"
     ]
    },
    {
     "cell_type": "markdown",
     "metadata": {},
     "source": [
      "El **per\u00edode** d'un moviment peri\u00f2dic \u00e9s el temps que tarda en completar un cicle. El designarem amb la lletra $T$ i en el Sistema Internacional es mesura en segons. Si es produeixen $n$ cicles en un interval de temps $\\Delta t$, tenim que el per\u00edode es pot expressar:\n",
      "\n",
      "$$T=\\frac{\\Delta t}{n}$$\n",
      "\n",
      "Definirem **freq\u00fc\u00e8ncia** d'un fen\u00f2men peri\u00f2dic com el nombre de cicles que es produeixen per unitat de temps. La freq\u00fc\u00e8ncia la designarem amb la lletra grega $\\nu$ (nu). En el SI s'expressa en $\\mathrm{s^{-1}}$ que rep el nom d'hertz (Hz).\n",
      "\n",
      "Si hi ha $n$ cicles en un interval de temps $\\Delta t$, la freq\u00fc\u00e8ncia ser\u00e0:\n",
      "\n",
      "$$\\nu = \\frac{n}{\\Delta t}$$\n",
      "\n",
      "Amb aquestes definicions de per\u00edode i freq\u00fc\u00e8ncia, podem comprovar que estan relacionats de manera inversa:\n",
      "\n",
      "$$\\nu = \\frac{1}{T}$$"
     ]
    },
    {
     "cell_type": "heading",
     "level": 2,
     "metadata": {},
     "source": [
      "Moviment vibratori harm\u00f2nic simple"
     ]
    },
    {
     "cell_type": "heading",
     "level": 3,
     "metadata": {},
     "source": [
      "Oscil\u00b7ladors harm\u00f2nics"
     ]
    },
    {
     "cell_type": "code",
     "collapsed": false,
     "input": [
      "from IPython.display import YouTubeVideo\n",
      "YouTubeVideo('_qE_VAQ6thU')"
     ],
     "language": "python",
     "metadata": {},
     "outputs": [
      {
       "html": [
        "\n",
        "        <iframe\n",
        "            width=\"400\"\n",
        "            height=300\"\n",
        "            src=\"https://www.youtube.com/embed/_qE_VAQ6thU\"\n",
        "            frameborder=\"0\"\n",
        "            allowfullscreen\n",
        "        ></iframe>\n",
        "        "
       ],
       "metadata": {},
       "output_type": "pyout",
       "prompt_number": 1,
       "text": [
        "<IPython.lib.display.YouTubeVideo at 0x7fc9107db990>"
       ]
      }
     ],
     "prompt_number": 1
    },
    {
     "cell_type": "heading",
     "level": 3,
     "metadata": {},
     "source": [
      "Equaci\u00f3 del MVHS"
     ]
    },
    {
     "cell_type": "markdown",
     "metadata": {},
     "source": [
      "Si veiem el MVHS com la projecci\u00f3 d'un moviment circular uniforme, podrem escriure l'equaci\u00f3 que descriu l'elongaci\u00f3 del moviment com\n",
      "\n",
      "$$x = A \\sin(\\omega t + \\varphi _{0})$$\n",
      "\n",
      "on $x$ \u00e9s l'**elongaci\u00f3** del moviment i es mesura en metres en el SI, $A$ es coneix com l'**amplitud** i que correspon a l'elongaci\u00f3 m\u00e0xima. El par\u00e0metre $\\omega$ es correspon a la velocitat angular del moviment circular uniforme generatiu, per\u00f2 que en el moviment harm\u00f2nic s'anomena **freq\u00fc\u00e8ncia angular** o **pulsaci\u00f3** i es mesura en radiants/s (rad/s). El par\u00e0metre $\\varphi_{0}$ es coneix com **fase inicial**."
     ]
    },
    {
     "cell_type": "heading",
     "level": 3,
     "metadata": {},
     "source": [
      "Velocitat i acceleraci\u00f3 en el MVHS"
     ]
    },
    {
     "cell_type": "markdown",
     "metadata": {},
     "source": [
      "$$v = A \\omega \\cos(\\omega t)$$\n",
      "\n",
      "$$a = - A \\omega^{2} \\sin(\\omega t)$$"
     ]
    },
    {
     "cell_type": "heading",
     "level": 3,
     "metadata": {},
     "source": [
      "Energia del MVHS"
     ]
    },
    {
     "cell_type": "heading",
     "level": 2,
     "metadata": {},
     "source": [
      "Moviment ondulatori"
     ]
    },
    {
     "cell_type": "heading",
     "level": 3,
     "metadata": {},
     "source": [
      "Les ones harm\u00f2niques"
     ]
    },
    {
     "cell_type": "markdown",
     "metadata": {},
     "source": [
      "$$y = A \\sin(\\omega t - k x + \\varphi_{0})$$"
     ]
    },
    {
     "cell_type": "code",
     "collapsed": false,
     "input": [],
     "language": "python",
     "metadata": {},
     "outputs": []
    }
   ],
   "metadata": {}
  }
 ]
}