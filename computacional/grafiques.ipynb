{
 "cells": [
  {
   "cell_type": "markdown",
   "metadata": {},
   "source": [
    "# Representació gràfica \n",
    "\n",
    "En Física és molt comú establir relacions entre magnituds que depenen unes d'altres. Aquestes relacions s'anomenen funcions i es poden representar a través d'una relació algebraica entre les magnituds o també a través d'una representació gràfica. Les representacions gràfiques són molt utilitzades perque ens permeten tenir ràpidament una visió del comportament d'una magnitud física que moltes vegades no resulta evident quan mirem la funció algebraica. D'aquesta manera tenim que la representació gràfica de funcions és una eina de visualització de dades molt poderosa.\n",
    "\n",
    "Abans les representacions gràfiques es feien a mà i es representaven habitualment sobre paper mil·limetrat, però ara per a la representació gràfica de dades i funcions es fan servir els ordinadors. Nosaltres utilitzarem com a eina per a la construcció de gràfiques el llenguatge Python que conté una biblioteca molt desenvolupada per a representar gràfiques anomenada `matplotlib` (https://matplotlib.org/users/index.html) i de passada aprendrem una mica com programar fent servir el llenguatge de programació Python.\n",
    "\n"
   ]
  }
 ],
 "metadata": {
  "kernelspec": {
   "display_name": "Python 3",
   "language": "python",
   "name": "python3"
  },
  "language_info": {
   "codemirror_mode": {
    "name": "ipython",
    "version": 3
   },
   "file_extension": ".py",
   "mimetype": "text/x-python",
   "name": "python",
   "nbconvert_exporter": "python",
   "pygments_lexer": "ipython3",
   "version": "3.6.5"
  }
 },
 "nbformat": 4,
 "nbformat_minor": 2
}
