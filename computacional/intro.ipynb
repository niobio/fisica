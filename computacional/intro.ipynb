{
 "cells": [
  {
   "cell_type": "markdown",
   "metadata": {},
   "source": [
    "# Aproximació a la física computacional\n",
    "\n",
    "La Física és una ciència natural que necessita contrastar les prediccions dels seus models amb experiments i això comporta la necessitat de mesurar, representar dades gràficament i fer operacions matemàtiques moltes vegades complexes i intensives en quant a temps de càlcul. Altres vegades (la major part) els models no es poden resoldre de manera analítica, es a dir, fent servir operacions algebraiques i s'ha de recórrer a mètodes numèrics on només podem arribar a les solucions fent servir ordinadors.\n",
    "\n",
    "Farem una aproximació a la Física Computacional a través del llenguatge de programació Python que conté una sèrie de biblioteques per a computació científica que ens faran la vida més fàcil a l'hora d'aprendre a programar."
   ]
  },
  {
   "cell_type": "markdown",
   "metadata": {},
   "source": [
    "## Instalar Anaconda\n",
    "\n",
    "Els ordinadors no utilitzen el llenguatge que nosaltres fem servir per a comunicar-nos entre els humans (llenguatge natural), sino que utilitzen llenguatges basats en números, més precisament, en el sistema de numeració binària \n",
    "\n",
    "\n",
    "\n",
    "Python és un llenguatge interpretat, es a dir, hi ha un sistema (l'interpret) que s'encarrega  \n",
    "\n",
    "https://www.anaconda.com/download/"
   ]
  }
 ],
 "metadata": {
  "kernelspec": {
   "display_name": "Python 3",
   "language": "python",
   "name": "python3"
  },
  "language_info": {
   "codemirror_mode": {
    "name": "ipython",
    "version": 3
   },
   "file_extension": ".py",
   "mimetype": "text/x-python",
   "name": "python",
   "nbconvert_exporter": "python",
   "pygments_lexer": "ipython3",
   "version": "3.6.5"
  }
 },
 "nbformat": 4,
 "nbformat_minor": 2
}
