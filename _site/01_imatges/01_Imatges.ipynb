{
 "cells": [
  {
   "cell_type": "markdown",
   "metadata": {},
   "source": [
    "# Imatges\n",
    "\n",
    "La llum i el seu comportament ha estat un misteri durant molt temps i encara avui, que el seu comportament està molt ben descrit per l'electrodinàmica quàntica, mostra comportaments que costen d'entendre. En aquesta unitat ens dedicarem a entendre el comportament bàsic de la llum per a la formació d'imatges. El primer en fer una descripció satisfactòria del comportament de la llum per ala formació d'imatges ha estat Isaac Newton al seu treball Opticks. Newton va entendre la llum com formada per petits corpuscles, com si estigués formada per boletes diminutes, i això li va permetre explicar el rebot de la llum sobre una superfície plana seguint el mateix comportament que les boles de billar. Aquest model s'anomena model corpuscular de la llum.\n",
    "\n",
    "<figure>\n",
    "  <img src=\"img/billiard-balls.svg\" alt=\"\" width=\"50%\">\n",
    "  <figcaption> La llum es reflecteix sobre una superfície plana de la mateixa manera que reboten les boles a les bandes d'una taula de billar. </figcaption>\n",
    "</figure>\n",
    "\n",
    "Aquest model ha estat molt reeixit per a explicar la formació d'imatges. Posteriorment s'han trobat comportaments de la llum que no es podien explicar amb el model corpuscular i es va proposar que la llum s'havia d'entendre com un fenomen ondulatori. Aquest model va ser proposat pel físic holandès Christian Huygens i el seu model va ser combatut pels seguidors de Newton. Finalment al segle XIX el físic anglès Thomas Young mostra “sense cap dubte” que el comportament de la llum era el d'un ona amb el seu experiment de la doble escletxa. La història no acaba aquí perquè just a començament del segle XX va ser necessari tornar a entendre la llum com a format per partícules anomenats quanta (actualment fotons) per a explicar fenòmens com la radiació de cos negre i l'efecte fotoelèctric.<sup><a href=\"#fn1\" id=\"ref1\">1</a></sup>\n",
    "\n",
    "Per a l'estudi de la formació d'imatges tindrem en compte un parell de fets ben coneguts:\n",
    "\n",
    "* La llum es propaga en línia recta en un medi homogeni <sup><a href=\"#fn2\" id=\"ref2\">2</a></sup>. Indicarem la seva trajectòria dibuixant raigs que indicaran el camí traçat per la llum.\n",
    "\n",
    "* La velocitat de la llum és constant en un medi homogeni. Al buit la velocitat és $c=3\\times10^{8}\\,\\mathrm{m/s}$\n",
    "  i, a efectes pràctics, considerarem que la velocitat a l'aire és la mateixa."
   ]
  },
  {
   "cell_type": "markdown",
   "metadata": {},
   "source": [
    "## Llei de la reflexió\n",
    "\n",
    "Podem destacar dos tipus de reflexió. Quan la superfície especular és plana tenim reflexió especular i l'exemple més clar és el mirall o una superfície metàl·lica polida i, fins i tot la superfície d'aigua quan està quieta. En cas de tenir una superfície rugosa la reflexió és difusa i no podem formar una imatge. La llei de la reflexió es compleix a nivell local però como l'angle d'incidència de cada raig és diferent respecte a la superfície, els raigs emergents no són pas paral·lels.\n",
    "\n",
    "<figure>\n",
    "  <img src=\"img/especular_difusa.svg\" alt=\"\" width=\"50%\">\n",
    "  <figcaption> Reflexió especular i difusa. La llei de la reflexió es verifica localment en ambdues superfícies però només a la imatge de l'esquerra tots els raigs tenen el mateix angle d'incidència i de reflexió. </figcaption>\n",
    "</figure>\n",
    "\n",
    "La llei de la reflexió sobre superfícies planes estableix que l'angle de reflexió és igual a l'angle d'incidència. Si anomenem $\\alpha_{i}$ l'angle dels raigs d'incidència i $\\alpha_{r}$ l'angle format pels raigs reflectits, tenim que la llei de la reflexió s'escriu:\n",
    "\n",
    "$$\\alpha_{r}=\\alpha_{i}$$\n",
    "\n",
    "Els angles d'incidència i reflexió es mesuren respecte de la línia perpendicular a la superfície de reflexió anomenada recta normal, com es veu a la figura següent.\n",
    "\n",
    "<figure>\n",
    "  <img src=\"img/llei_reflex.svg\" alt=\"\" width=\"30%\">\n",
    "  <figcaption> Llei de la reflexió. L'angle de reflexió és igual a l'angle d'incidència. Mesurem els alngles respecte de la recta normal. </figcaption>\n",
    "</figure>"
   ]
  },
  {
   "cell_type": "markdown",
   "metadata": {},
   "source": [
    "## Refracció de la llum\n",
    "\n",
    "Com ja ho hem dit, la llum es propaga en un medi homogeni a una velocitat constant, però quan la llum passa d'un medi a un altre la seva velocitat de propagació canvia i això pot produir un canvi en la direcció de propagació de la llum. Aquest canvi en la direcció de propagació de la llum l'anomenen refracció de la llum. A la Figura [fig:refrac] es pot veure un raig de llum que incideix des d'una medi 1 amb un angle $\\alpha_{1}$ respecte a la normal de la superfície de separació dels dos medis. Quan travessa la superfície passa a propagar-se en el medi 2 amb un angle $\\alpha_{2}$ respecte a la mateixa recta normal. També es pot veure un raig reflectit. Sempre que hi ha una superfície de separació de dos medis hi haurà llum reflectida què, com ja hem vist, segueix la llei de la reflexió $(\\alpha_{1}=\\alpha_{1}^{,})$.\n",
    "\n",
    "<figure>\n",
    "  <img src=\"img/llei_refrac.svg\" alt=\"\" width=\"30%\">\n",
    "  <figcaption> Refracció de la llum. La llum es propaga per un medi 1 i passa a un medi 2 amb propietats òptiques diferents, com a conseqüència, la direcció de propagació canvia. La llei que descriu aquest comportament és la llei de Snell. </figcaption>\n",
    "</figure>\n",
    "\n",
    "Els dos angles $\\alpha_{1}$ i $\\alpha_{2}$ estan relacionats amb la velocitat de propagació de la llum ens els dos medis, $v_{1}$ i $v_{2}$ respectivament, a través de la llei de la refracció de la llum o **llei de Snell**:\n",
    "\n",
    "$$\\frac{\\sin(\\alpha_{1})}{v_{1}}=\\frac{\\sin(\\alpha_{2})}{v_{2}}$$\n",
    "\n",
    "Podem deduir de la llei que si la llum passa a un segon medi on es propaga a una velocitat més petita, $(v_{2}<v_{1})$, l'angle de sortida serà més petit que l'angle d'entrada $(\\alpha_{2}<\\alpha_{1})$. El mateix raonament és valid en cas contrari, si la velocitat del segon medi és més gran, també ho serà l'angle de sortida. Pots dir quin dels dos casos mostra la figura anterior? "
   ]
  },
  {
   "cell_type": "markdown",
   "metadata": {},
   "source": [
    "## Índex de refracció\n",
    "\n",
    "A la llei de Snell apareixen les velocitats de propagació de la llum. Per a no tenir que treballar amb valors de velocitats tan grans (recordem que la velocitat de la llum al buit és $c=3\\times10^{8}\\mathrm{m/s})$ el que es fa és multiplicar ambdós membres de l'equació $\\eqref{eq:snell}$ per la velocitat de la llum al buit, $c$, per a obtenir\n",
    "\n",
    "$$\n",
    "\\begin{equation}\\label{eq:snell}\n",
    "\\frac{c}{v_{1}}\\sin(\\alpha_{1})=\\frac{c}{v_{2}}\\sin(\\alpha_{2})\n",
    "\\end{equation}\n",
    "$$\n",
    "\n",
    "\n",
    "Definirem índex de refracció, $n$, d'un medi on la velocitat de propagació és $v$ al quocient\n",
    "\n",
    "$$n=\\frac{c}{v}$$\n",
    "\n",
    "Podem observar que l'índex de refracció és una magnitud adimensional (no porta unitats) i, donat que la velocitat de propagació de la llum en qualsevol medi és sempre inferior a la velocitat de la llum al buit, l'índex de refracció sempre és un nombre superior a 1. Amb aquesta definició podem reescriure la llei de Snell de la següent manera:\n",
    "\n",
    "$$n_{1}\\sin(\\alpha_{1})=n_{2}\\sin(\\alpha_{2})$$\n",
    "\n",
    "on $n_{1}$ i $n_{2}$ són, respectivament, els índex de refracció dels medis 1 i 2.\n",
    "\n",
    "A la taula següent es pot observar el llistat dels índex de refracció d'alguns materials.\n",
    "\n",
    "+----------+------------------+\n",
    "|Material  |Índex de refracció|\n",
    "+--------  +------------------+\n",
    "|Buit      |1                 |\n",
    "|Aire      |1,000293          |\n",
    "|Aigua     |1,333             |\n",
    "|Etanol    |1,36              |\n",
    "|Vidre comú||\n",
    "\n",
    "\n",
    "\n",
    "\n",
    "\n"
   ]
  },
  {
   "cell_type": "markdown",
   "metadata": {},
   "source": [
    "#### Notes\n",
    "<sup id=\"fn1\">1. Aquests fenòmens els estudiarem al segon curs de Física. <a href=\"#ref1\" title=\"Tornar al text.\">↩</a></sup>\n",
    "\n",
    "<sup id=\"fn2\">2. Anomenem medi homogeni a un medi que té les mateixes propietats físiques en tots els seus punts. Per exemple, l'aigua a temperatura ambient és un medi homogeni, mentre que l'aigua bullint no ho és, ja que hi ha bombolles que tenen propietats físiques diferents a les de l'aigua líquida.<a href=\"#ref2\" title=\"Tornar al text.\">↩</a></sup>\n"
   ]
  }
 ],
 "metadata": {
  "kernelspec": {
   "display_name": "Python 3",
   "language": "python",
   "name": "python3"
  },
  "language_info": {
   "codemirror_mode": {
    "name": "ipython",
    "version": 3
   },
   "file_extension": ".py",
   "mimetype": "text/x-python",
   "name": "python",
   "nbconvert_exporter": "python",
   "pygments_lexer": "ipython3",
   "version": "3.5.2"
  }
 },
 "nbformat": 4,
 "nbformat_minor": 1
}
