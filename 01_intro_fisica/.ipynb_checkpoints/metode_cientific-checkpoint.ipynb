{
 "metadata": {
  "name": ""
 },
 "nbformat": 3,
 "nbformat_minor": 0,
 "worksheets": [
  {
   "cells": [
    {
     "cell_type": "heading",
     "level": 1,
     "metadata": {},
     "source": [
      "Qu\u00e8 \u00e9s la ci\u00e8ncia?"
     ]
    },
    {
     "cell_type": "markdown",
     "metadata": {},
     "source": [
      "Les ci\u00e8ncies naturals, tamb\u00e9 anomenades ci\u00e8ncies experimentals o directament ci\u00e9ncia \u00e9s el conjunt de coneixements que tracten de descriure el funcionament de la natura trobant un cert ordre i les seves causes. La ci\u00e8ncia \u00e8s una activitat humana amb esfor\u00e7os col\u00b7lectius de recerca amb la finalitat de descobrir fets, establir relacions entre ells i enunciar lleis i teories demostrables que permetin una descripci\u00f3 senzilla sobre el funcionament de la natura.\n",
      "\n",
      "La ci\u00e8ncia \u00e9s tan antiga com l'\u00e9sser hum\u00e1. Des d'abans que l'home s\u00e0piga escriure ja es van trobar regularitats en el clima o sobre les posicions de les estrelles entre d'altres. A partir d'aquestes regularitats s'han pogut fer prediccions i tenir un cert control sobre l'entorn.\n",
      "\n",
      "El llenguatge de la ci\u00e8ncia son les matem\u00e0tiques i una de les particularitats m\u00e8s importants de la ci\u00e8ncia \u00e9s la mesura. L'\u00e8xit en el coneixement d'un fenomen natural est\u00e0 relacionat amb la possibilitat de mesurar-ho. El f\u00edsic del segle XIX, Lord Kelvin, ho va dir de la seg\u00fcent manera: \"Quan pots mesurar aix\u00f2 del que parles, i expressar-ho en n\u00fameros, saps alguna cosa d'aix\u00f2; per\u00f2 quan no ho pots mesurar, quan no ho pots expressar en n\u00fameros, el teu coneixement es pobre i insatisfactori: pot ser el principi d'un coneixement, per\u00f2 els teus pensaments han avan\u00e7at poc cap a l'estat de Ci\u00e8ncia, sigui la disciplina que sigui\".\n",
      "\n",
      "Des que les ci\u00e8ncies naturals van incorporar les matem\u00e0tiques com a llenguatge per a expressar les seves teories, fa m\u00e9s o menys quatre segles, el desenvolupament cient\u00edfic va ser espectacular. El poder expressar les idees en termes matem\u00e0tics fa que els conceptes siguin ben concrets, sense ambig\u00fcitats. D'aquesta manera s'elimina la confusi\u00f3 que sempre por haver-hi quan les coses s'expliquen en llenguatge quotidi\u00e0. Si les idees s'expressen matem\u00e0ticament resulta m\u00e9s f\u00e0cil realitzar experiments que permetin confirmar o rebutjar aquestes idees. "
     ]
    },
    {
     "cell_type": "heading",
     "level": 1,
     "metadata": {},
     "source": [
      "El m\u00e8tode cient\u00edfic"
     ]
    },
    {
     "cell_type": "markdown",
     "metadata": {},
     "source": [
      "L'\u00e9xit que ha tingut la ci\u00e9ncia, sobre tot, en els \u00faltims quatre-cents anys, ha estat associat a una metodologia que la caracteritza i que s'anomena el m\u00e9tode cient\u00edfic. El m\u00e9tode cient\u00edfic va ser creat, fonamentalment, pel f\u00edsic itali\u00e0 Galileu Galilei i pel fil\u00f2sof angl\u00e8s Francis Bacon i consisteix en la consecuci\u00f3 dels seg\u00fcents passos:\n",
      "\n",
      "* Observar un fenomen o situaci\u00f3 problem\u00e0tica. Quan diem observar en ci\u00e8ncia volem dir tamb\u00e9 mesurar les magnituds rellevants associades a aquest fenomen de manera que ens permetin enregistrar els aspectes m\u00e9s importants d'aix\u00f3 que observem.\n",
      "\n",
      "* Realitzar una hip\u00f2tesi a partir de l'an\u00e0lisi del fenomen observat. Aix\u00f3 vol dir trobar una relaci\u00f3 entre les magnituds mesurades. Aquesta hip\u00f2tesi ha de tenir la propietat de poder predir resultats en situacions en les que encara no s'han fet observacions o mesuraments. Una caracter\u00edstica important d'una hip\u00f2tesi cient\u00edfica \u00e9s que tamb\u00e9 ha de poder predir quines conseq\u00fc\u00e8ncies es deriven si la hip\u00f2tesi resulta falsa.\n",
      "\n",
      "* Fer els experiments necessaris per a comprovar si les prediccions de la hip\u00f2tesi s\u00f3n encertades.\n",
      "\n",
      "* Fer la formulaci\u00f3 d'una regla senzilla que permeti organitzar la hip\u00f2tesi amb els efectes predits i les determinacions experimentals.\n",
      "\n",
      "La ci\u00e8ncia \u00e8s una disciplina humana i est\u00e0 associada al desenvolupament de la societat en determinat moment hist\u00f2ric. Fets indiscutibles d'una \u00e8poca (com ser que la Terra roman imm\u00f2bil) poden ser poden ser clarament falsos en una altre \u00e8poca. Aix\u00f2 succeeix perqu\u00e8 quan es fa la interpretaci\u00f3 d'una observaci\u00f3 sempre donem per suposats moltes coses que estan associades a les creences de l'\u00e8poca en que vivim. Habitualment l'evoluci\u00f3 de la ci\u00e8ncia arriba a un punt en que s'han acumulat una quantitat important de fets observats que estan en contradicci\u00f3 amb les creences de l'\u00e8poca, aix\u00f3 produeix una crisi. La crisi \u00e9s superada quan s'abandonen aquestes creences i s'estableixen altres noves que permeten explicar els fets observats. Es diu que s'ha adoptat un nou paradigma. La ci\u00e8ncia evoluciona d'aquesta manera. "
     ]
    },
    {
     "cell_type": "heading",
     "level": 1,
     "metadata": {},
     "source": [
      "La actitud cient\u00edfica a la vida quotidiana"
     ]
    },
    {
     "cell_type": "markdown",
     "metadata": {},
     "source": [
      "Podem adoptar una actitud cient\u00edfica al nostre comportament quotidi\u00e0 encara que no siguem cient\u00edfics. Aix\u00f2 vol dir tenir una actitud esc\u00e8ptica davant les afirmacions fetes pels altres. Qu\u00e8 vol dir aix\u00f2? Senzillament que no ens hem de creure tot el que ens diuen nom\u00e9s perqu\u00e8 el que fa l'afirmaci\u00f3 es una persona important o amb m\u00e9s experi\u00e8ncia. Hem de con\u00e8ixer altres opinions i confrontar-les abans d'adoptar una posici\u00f3. Encara que ens sembli que tenir una actitud esc\u00e8ptica en una societat t\u00e8cnicament desenvolupada com la nostra hauria de ser el m\u00e9s normal, no \u00e9s aix\u00ed. Molta gent creu sense m\u00e9s ni m\u00e9s ho que els anuncis de TV diuen o el que li recomana el seu ve\u00ed. Un cas dram\u00e0tic ha estat la guerra de l'Iraq. Molt\u00edssima gent ha donat suport a la guerra donant per veritat l'afirmaci\u00f3 de que estava en possessi\u00f3 d'armes de destrucci\u00f3 massiva sense demanar proves. Despr\u00e9s es va demostrar que havien estat mentides inventades per justificar una invasi\u00f3 amb finalitats econ\u00f2miques. La irracionalitat es molt freq\u00fcent a la nostra societat, la creen\u00e7a en cures miraculoses o el caure en fraus econ\u00f2mics est\u00e0 a l'ordre del dia. El tenir una actitud esc\u00e8ptica ens pot ajudar a no caure en enganys."
     ]
    },
    {
     "cell_type": "heading",
     "level": 1,
     "metadata": {},
     "source": [
      "Qu\u00e8 estudia la f\u00edsica?"
     ]
    },
    {
     "cell_type": "markdown",
     "metadata": {},
     "source": [
      " La f\u00edsica \u00e9s una ci\u00e8ncia b\u00e0sica i est\u00e0 en el rerefons de totes les ci\u00e8ncies naturals ja que qualsevol fenomen natural, encara que siguin processos biol\u00f2gics es basen en interaccions de massa i energia que s\u00f3n l'objecte d'estudi de la f\u00edsica. Antigament la ci\u00e8ncia era coneguda amb el nom de filosofia natural i abastava totes les ci\u00e8ncies naturals. Despr\u00e9s es va separar en ci\u00e8ncies f\u00edsiques (f\u00edsica, qu\u00edmica, geologia i astronomia) i ci\u00e8ncies de la vida (biologia, zoologia, bot\u00e0nica), que van tenir durant bastant temps objectes d'estudi ben diferenciats. Actualment s'est\u00e0 tornant a tenir una visi\u00f3 globalitzadora de la ci\u00e8ncia i els estudis interdisciplinaris s\u00f3n els que estan donant m\u00e9s fruits en aquests moments com ser la nanotecnologia (f\u00edsica, qu\u00edmica i enginyeria) i la biologia molecular (biologia, f\u00edsica i qu\u00edmica).\n",
      "\n",
      "L'objecte d'estudi de la f\u00edsica \u00e9s fonamentalment la mat\u00e8ria i les radiacions, les interaccions i el moviment. En aquest curs estudiarem el moviment (cinem\u00e0tica) i les interaccions que donen origen al moviment (din\u00e0mica). Tamb\u00e9 estudiarem algunes magnituds f\u00edsiques interessants que romanen invariables durant les interaccions (energia i quantitat de moviment) i que ens permetran predir comportaments de la mat\u00e8ria d'una manera senzilla i bella. Estudiarem una propietat f\u00edsica anomenada c\u00e0rrega el\u00e8ctrica i les seves interaccions. Tamb\u00e9 estudiarem com interactuen les part\u00edcules que formen part del nucli at\u00f2mic i la nova visi\u00f3 de l'univers que s'ha obert a partir de les teories de la relativitat d'Einstein i la mec\u00e0nica qu\u00e0ntica.\n",
      "\n",
      "Dintre de la f\u00edsica, tenim diferents teories que resulten m\u00e9s adequades segons quin \u00e9s el nostre sistema sota estudi. En el mapa conceptual que apareix a sota podem veure les diferents teories f\u00edsiques i el seu camp d'aplicaci\u00f3 m\u00e9s adequat. La major part de la fisica que estudiarem en aquest curs est\u00e0 indicada amb color taronja, tot i que tamb\u00e9 veurem alguns aspectes de teories de la relativitat i qu\u00e0ntica . Encara que pot semblar que estudiarem una part molt petita de la f\u00edsica \u00e9s necessari dir que \u00e9s aquesta part la que t\u00e9 aplicacions al nostre m\u00f3n macrosc\u00f2pic i a velocitats \"quotidianes\"."
     ]
    },
    {
     "cell_type": "markdown",
     "metadata": {},
     "source": [
      "<img src=\"files/img/mapa_conceptual.jpg\">"
     ]
    },
    {
     "cell_type": "code",
     "collapsed": false,
     "input": [],
     "language": "python",
     "metadata": {},
     "outputs": []
    }
   ],
   "metadata": {}
  }
 ]
}